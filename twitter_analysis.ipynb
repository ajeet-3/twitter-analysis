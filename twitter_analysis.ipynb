{
 "cells": [
  {
   "cell_type": "markdown",
   "id": "72a191ba",
   "metadata": {},
   "source": [
    "#  ASSIGNMENT `"
   ]
  },
  {
   "cell_type": "code",
   "execution_count": 16,
   "id": "64128350",
   "metadata": {},
   "outputs": [
    {
     "name": "stdout",
     "output_type": "stream",
     "text": [
      "Successfully made csv file\n"
     ]
    }
   ],
   "source": [
    "# Python program to convert .tsv file to .csv file\n",
    "# importing re library\n",
    "import re\n",
    "\n",
    "# reading given tsv file\n",
    "with open(\"correct_twitter_201904.tsv\", 'r', encoding='utf-8', errors='replace') as myfile:\n",
    "\n",
    "    with open(\"twitter.csv\", 'w', encoding='utf-8') as csv_file:\n",
    "\n",
    "        for line in myfile:\n",
    "\n",
    "    # Replace every tab with comma\n",
    "            fileContent = re.sub(\"\\t\", \",\", line)\n",
    "\n",
    "# Writing into csv file\n",
    "            csv_file.write(fileContent)\n",
    "\n",
    "# output\n",
    "print(\"Successfully made csv file\")\n"
   ]
  },
  {
   "cell_type": "code",
   "execution_count": 77,
   "id": "0ebd91e5",
   "metadata": {},
   "outputs": [],
   "source": [
    "import pandas as pd\n",
    "import datetime"
   ]
  },
  {
   "cell_type": "code",
   "execution_count": 111,
   "id": "7b57b942",
   "metadata": {},
   "outputs": [],
   "source": [
    "df = pd.read_csv('twitter.csv',low_memory = False,usecols = ['created_at','text','author_id','like_count','place_id'])"
   ]
  },
  {
   "cell_type": "code",
   "execution_count": 112,
   "id": "fec79c16",
   "metadata": {},
   "outputs": [
    {
     "data": {
      "text/html": [
       "<div>\n",
       "<style scoped>\n",
       "    .dataframe tbody tr th:only-of-type {\n",
       "        vertical-align: middle;\n",
       "    }\n",
       "\n",
       "    .dataframe tbody tr th {\n",
       "        vertical-align: top;\n",
       "    }\n",
       "\n",
       "    .dataframe thead th {\n",
       "        text-align: right;\n",
       "    }\n",
       "</style>\n",
       "<table border=\"1\" class=\"dataframe\">\n",
       "  <thead>\n",
       "    <tr style=\"text-align: right;\">\n",
       "      <th></th>\n",
       "      <th>text</th>\n",
       "      <th>author_id</th>\n",
       "      <th>created_at</th>\n",
       "      <th>like_count</th>\n",
       "      <th>place_id</th>\n",
       "    </tr>\n",
       "  </thead>\n",
       "  <tbody>\n",
       "    <tr>\n",
       "      <th>0</th>\n",
       "      <td>RT @Iesbwian: britney spears was right.....my ...</td>\n",
       "      <td>1620294025</td>\n",
       "      <td>2019-05-23 12:17:17-04:00</td>\n",
       "      <td>0</td>\n",
       "      <td>None</td>\n",
       "    </tr>\n",
       "    <tr>\n",
       "      <th>1</th>\n",
       "      <td>TJ trusts me to make a playlsit for our 5 hour...</td>\n",
       "      <td>34706181</td>\n",
       "      <td>2019-05-23 12:17:21-04:00</td>\n",
       "      <td>1</td>\n",
       "      <td>None</td>\n",
       "    </tr>\n",
       "    <tr>\n",
       "      <th>2</th>\n",
       "      <td>@badgurlhenri you better work bitch  - spears,...</td>\n",
       "      <td>1784620956</td>\n",
       "      <td>2019-05-23 11:56:32-04:00</td>\n",
       "      <td>1</td>\n",
       "      <td>None</td>\n",
       "    </tr>\n",
       "    <tr>\n",
       "      <th>3</th>\n",
       "      <td>RT @Iesbwian: britney spears was right.....my ...</td>\n",
       "      <td>3410399002</td>\n",
       "      <td>2019-05-23 12:17:05-04:00</td>\n",
       "      <td>0</td>\n",
       "      <td>None</td>\n",
       "    </tr>\n",
       "    <tr>\n",
       "      <th>4</th>\n",
       "      <td>RT @Iesbwian: britney spears was right.....my ...</td>\n",
       "      <td>1.10E+18</td>\n",
       "      <td>2019-05-23 12:16:42-04:00</td>\n",
       "      <td>0</td>\n",
       "      <td>None</td>\n",
       "    </tr>\n",
       "  </tbody>\n",
       "</table>\n",
       "</div>"
      ],
      "text/plain": [
       "                                                text   author_id  \\\n",
       "0  RT @Iesbwian: britney spears was right.....my ...  1620294025   \n",
       "1  TJ trusts me to make a playlsit for our 5 hour...    34706181   \n",
       "2  @badgurlhenri you better work bitch  - spears,...  1784620956   \n",
       "3  RT @Iesbwian: britney spears was right.....my ...  3410399002   \n",
       "4  RT @Iesbwian: britney spears was right.....my ...    1.10E+18   \n",
       "\n",
       "                  created_at like_count place_id  \n",
       "0  2019-05-23 12:17:17-04:00          0     None  \n",
       "1  2019-05-23 12:17:21-04:00          1     None  \n",
       "2  2019-05-23 11:56:32-04:00          1     None  \n",
       "3  2019-05-23 12:17:05-04:00          0     None  \n",
       "4  2019-05-23 12:16:42-04:00          0     None  "
      ]
     },
     "execution_count": 112,
     "metadata": {},
     "output_type": "execute_result"
    }
   ],
   "source": [
    "df.head()"
   ]
  },
  {
   "cell_type": "code",
   "execution_count": 113,
   "id": "94c10bbe",
   "metadata": {},
   "outputs": [
    {
     "data": {
      "text/plain": [
       "text          2\n",
       "author_id     4\n",
       "created_at    4\n",
       "like_count    5\n",
       "place_id      6\n",
       "dtype: int64"
      ]
     },
     "execution_count": 113,
     "metadata": {},
     "output_type": "execute_result"
    }
   ],
   "source": [
    "df.isnull().sum()"
   ]
  },
  {
   "cell_type": "code",
   "execution_count": 114,
   "id": "d69bd936",
   "metadata": {},
   "outputs": [],
   "source": [
    "df = df.dropna()"
   ]
  },
  {
   "cell_type": "code",
   "execution_count": 115,
   "id": "fe591efa",
   "metadata": {},
   "outputs": [
    {
     "data": {
      "text/plain": [
       "text          0\n",
       "author_id     0\n",
       "created_at    0\n",
       "like_count    0\n",
       "place_id      0\n",
       "dtype: int64"
      ]
     },
     "execution_count": 115,
     "metadata": {},
     "output_type": "execute_result"
    }
   ],
   "source": [
    "df.isnull().sum()"
   ]
  },
  {
   "cell_type": "code",
   "execution_count": 116,
   "id": "86698ebb",
   "metadata": {},
   "outputs": [
    {
     "data": {
      "text/plain": [
       "text          object\n",
       "author_id     object\n",
       "created_at    object\n",
       "like_count    object\n",
       "place_id      object\n",
       "dtype: object"
      ]
     },
     "execution_count": 116,
     "metadata": {},
     "output_type": "execute_result"
    }
   ],
   "source": [
    "df.dtypes"
   ]
  },
  {
   "cell_type": "code",
   "execution_count": 117,
   "id": "42d40d0d",
   "metadata": {},
   "outputs": [],
   "source": [
    "df['text'] = df['text'].astype(str)\n",
    "df['created_at'] = pd.to_datetime(df['created_at'],utc=True)\n",
    "df['like_count'] = df['like_count'].astype(int)\n"
   ]
  },
  {
   "cell_type": "markdown",
   "id": "ce8f286a",
   "metadata": {},
   "source": [
    "#  How many tweets were posted containing the term on each day?\n"
   ]
  },
  {
   "cell_type": "code",
   "execution_count": 118,
   "id": "7562d94b",
   "metadata": {},
   "outputs": [
    {
     "name": "stdout",
     "output_type": "stream",
     "text": [
      "Enter the term you want to search for : music\n",
      "created_at\n",
      "2019-03-12      3\n",
      "2019-04-06      1\n",
      "2019-04-14      1\n",
      "2019-04-16      1\n",
      "2019-04-21      1\n",
      "2019-04-24      1\n",
      "2019-04-26      1\n",
      "2019-04-27      3\n",
      "2019-04-28     22\n",
      "2019-04-29    118\n",
      "2019-04-30    135\n",
      "2019-05-01     71\n",
      "2019-05-02     72\n",
      "2019-05-03    104\n",
      "2019-05-04     75\n",
      "2019-05-05     65\n",
      "2019-05-06     71\n",
      "2019-05-07     64\n",
      "2019-05-08     60\n",
      "2019-05-09     70\n",
      "2019-05-10    307\n",
      "2019-05-11     78\n",
      "2019-05-12     69\n",
      "2019-05-13     50\n",
      "2019-05-14     67\n",
      "2019-05-15     99\n",
      "2019-05-16     91\n",
      "2019-05-17    162\n",
      "2019-05-18     61\n",
      "2019-05-19     46\n",
      "2019-05-20     64\n",
      "2019-05-21    119\n",
      "2019-05-22     80\n",
      "2019-05-23     73\n",
      "2019-05-24     49\n",
      "2019-05-25     92\n",
      "2019-05-26    112\n",
      "2019-05-27     76\n",
      "2019-05-28     96\n",
      "2019-05-29    187\n",
      "2019-05-30     71\n",
      "2019-05-31     14\n",
      "Name: text, dtype: int64\n"
     ]
    }
   ],
   "source": [
    "def count_tweets_by_day(df):\n",
    "    try:\n",
    "        term = input(\"Enter the term you want to search for : \")\n",
    "        flitered_df = df[df['text'].str.contains(term,case=False)]\n",
    "        daily_counts = flitered_df.groupby(df['created_at'].dt.date)['text'].count()\n",
    "        return daily_counts\n",
    "    except KeyboardInterrupt:\n",
    "        print(\"Operation cancelled by user\")\n",
    "        return None\n",
    "\n",
    "daily_tweet_counts = count_tweets_by_day(df)\n",
    "print(daily_tweet_counts)"
   ]
  },
  {
   "cell_type": "markdown",
   "id": "14494533",
   "metadata": {},
   "source": [
    "# How many unique users posted a tweet containing the term?\n"
   ]
  },
  {
   "cell_type": "code",
   "execution_count": 120,
   "id": "24bbd2f5",
   "metadata": {},
   "outputs": [
    {
     "name": "stdout",
     "output_type": "stream",
     "text": [
      "enter the term you want to search for :music\n",
      "1604\n"
     ]
    }
   ],
   "source": [
    "\n",
    "term = input(\"enter the term you want to search for :\")\n",
    "filter_df = df[df['text'].str.contains(term,case =False)]\n",
    "unique_user_count = filter_df['author_id'].nunique()\n",
    "print(unique_user_count)        "
   ]
  },
  {
   "cell_type": "markdown",
   "id": "7c04cfdd",
   "metadata": {},
   "source": [
    "# How many likes did tweets containing the term get, on average?\n"
   ]
  },
  {
   "cell_type": "code",
   "execution_count": 122,
   "id": "db3ba4bc",
   "metadata": {},
   "outputs": [
    {
     "name": "stdout",
     "output_type": "stream",
     "text": [
      "Enter the term you want to search for:music\n",
      "161.35176548967354\n"
     ]
    }
   ],
   "source": [
    "term = input(\"Enter the term you want to search for:\")\n",
    "new_df = df[df['text'].str.contains(term,case=False)]\n",
    "average_like = new_df['like_count'].mean()\n",
    "print(average_like)"
   ]
  },
  {
   "cell_type": "markdown",
   "id": "4dac0b21",
   "metadata": {},
   "source": [
    "# Where (in terms of place IDs) did the tweets come from?"
   ]
  },
  {
   "cell_type": "code",
   "execution_count": 133,
   "id": "e2ce6b1b",
   "metadata": {},
   "outputs": [
    {
     "name": "stdout",
     "output_type": "stream",
     "text": [
      "Enter the term you want to search for :music\n",
      "place_id\n",
      "001aff55522d96c9       1\n",
      "00b673715a35dfa7       1\n",
      "0113afc024d5e0bc       1\n",
      "01153d1b33e1641b       1\n",
      "0149775319466b18       1\n",
      "01ddb0100b1efd97       1\n",
      "01fbe706f872cb32       1\n",
      "0570f015c264cbd9       1\n",
      "07e9c7d1954fff64       1\n",
      "09f6a7707f18e0b1       1\n",
      "140800566259f12f       1\n",
      "151b9e91272233d1       1\n",
      "1a7a70d4a28e96a1       1\n",
      "2b8922cbe7f16337       1\n",
      "2bc7c264a080898b       1\n",
      "300bcc6e23a88361       1\n",
      "3b77caf94bfc81fe       1\n",
      "3f7a925ec706ea48       1\n",
      "43d2418301bf1a49       1\n",
      "4c8e28554110ebcf       2\n",
      "53504716d445dcad       1\n",
      "5c62ffb0f0f3479d       1\n",
      "5de8cffc145c486b       1\n",
      "714789cf3b7a50d0       1\n",
      "743df94d8dcb69a6       1\n",
      "7cb7440bcf83d464       1\n",
      "7de31e05e99a00f8       1\n",
      "814cfc71b843ff40       1\n",
      "8943f93b51e3f357       1\n",
      "8bc4eeacf63235f9       1\n",
      "8e9665cec9370f0f       1\n",
      "91890dbb74364d63       1\n",
      "9d63050d3d33d32f       1\n",
      "None                2958\n",
      "ab2f2fac83aa388d       1\n",
      "ac88a4f17a51c7fc       3\n",
      "b49b3053b5c25bf5       1\n",
      "d56c5babcffde8ef       1\n",
      "de599025180e2ee7       2\n",
      "ecbe2aea853af44e       1\n",
      "f97108ab3c4a42ed       1\n",
      "dtype: int64\n"
     ]
    }
   ],
   "source": [
    "term = input(\"Enter the term you want to search for :\")\n",
    "df_tweet = df[df['text'].str.contains(term,case =False)]\n",
    "\n",
    "place_id = df_tweet.groupby(['place_id']).size()\n",
    "\n",
    "print(place_id)"
   ]
  },
  {
   "cell_type": "markdown",
   "id": "3f7ab923",
   "metadata": {},
   "source": [
    "# What times of day were the tweets posted at?"
   ]
  },
  {
   "cell_type": "code",
   "execution_count": 124,
   "id": "c1fb9e28",
   "metadata": {},
   "outputs": [
    {
     "name": "stdout",
     "output_type": "stream",
     "text": [
      "hour\n",
      "0     4243\n",
      "1     3961\n",
      "2     3826\n",
      "3     3653\n",
      "4     3102\n",
      "5     2708\n",
      "6     2246\n",
      "7     2162\n",
      "8     2049\n",
      "9     1980\n",
      "10    2030\n",
      "11    2251\n",
      "12    2777\n",
      "13    3490\n",
      "14    4102\n",
      "15    4297\n",
      "16    4616\n",
      "17    5000\n",
      "18    5216\n",
      "19    4930\n",
      "20    5597\n",
      "21    5234\n",
      "22    4468\n",
      "23    4209\n",
      "Name: author_id, dtype: int64\n"
     ]
    }
   ],
   "source": [
    "df['hour'] = df['created_at'].dt.hour\n",
    "\n",
    "hourly_tweet_counts = df.groupby('hour')['author_id'].count()\n",
    "print(hourly_tweet_counts)\n"
   ]
  },
  {
   "cell_type": "markdown",
   "id": "b84db242",
   "metadata": {},
   "source": [
    "# Which user posted the most tweets containing the term?"
   ]
  },
  {
   "cell_type": "code",
   "execution_count": 127,
   "id": "b3ebb0d5",
   "metadata": {},
   "outputs": [
    {
     "name": "stdout",
     "output_type": "stream",
     "text": [
      "enter the term which you want to search for: music\n",
      "The user who posted the most tweets containing 'music' is 8.87E+17 with 114 tweets.\n"
     ]
    }
   ],
   "source": [
    "term = input(\"enter the term which you want to search for: \")\n",
    "term_df = df[df['text'].str.contains(term,case=False)]\n",
    "\n",
    "user = term_df['author_id'].value_counts()\n",
    "most_tweets_user = user.idxmax()\n",
    "most_tweets_count = user.max()\n",
    "\n",
    "print(f\"The user who posted the most tweets containing '{term}' is {most_tweets_user} with {most_tweets_count} tweets.\")\n"
   ]
  },
  {
   "cell_type": "code",
   "execution_count": null,
   "id": "51d1aecc",
   "metadata": {},
   "outputs": [],
   "source": []
  }
 ],
 "metadata": {
  "kernelspec": {
   "display_name": "Python 3 (ipykernel)",
   "language": "python",
   "name": "python3"
  },
  "language_info": {
   "codemirror_mode": {
    "name": "ipython",
    "version": 3
   },
   "file_extension": ".py",
   "mimetype": "text/x-python",
   "name": "python",
   "nbconvert_exporter": "python",
   "pygments_lexer": "ipython3",
   "version": "3.11.5"
  }
 },
 "nbformat": 4,
 "nbformat_minor": 5
}
